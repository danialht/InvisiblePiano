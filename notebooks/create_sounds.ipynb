{
 "cells": [
  {
   "cell_type": "code",
   "execution_count": 18,
   "metadata": {},
   "outputs": [],
   "source": [
    "import wave\n",
    "import struct"
   ]
  },
  {
   "cell_type": "code",
   "execution_count": 19,
   "metadata": {},
   "outputs": [],
   "source": [
    "def load_wav(filename, stereo=False):\n",
    "    \"\"\"\n",
    "    Load a file and return a sound dictionary.\n",
    "\n",
    "    Args:\n",
    "        filename: string ending in '.wav' representing the sound file\n",
    "        stereo: bool, by default sound is loaded as mono, if True sound will\n",
    "            have left and right stereo channels.\n",
    "\n",
    "    Returns:\n",
    "        A dictionary representing that sound.\n",
    "    \"\"\"\n",
    "    sound_file = wave.open(filename, \"r\")\n",
    "    chan, bd, sr, count, _, _ = sound_file.getparams()\n",
    "\n",
    "    assert bd == 2, \"only 16-bit WAV files are supported\"\n",
    "\n",
    "    out = {\"rate\": sr}\n",
    "\n",
    "    left = []\n",
    "    right = []\n",
    "    for i in range(count):\n",
    "        frame = sound_file.readframes(1)\n",
    "        if chan == 2:\n",
    "            left.append(struct.unpack(\"<h\", frame[:2])[0])\n",
    "            right.append(struct.unpack(\"<h\", frame[2:])[0])\n",
    "        else:\n",
    "            datum = struct.unpack(\"<h\", frame)[0]\n",
    "            left.append(datum)\n",
    "            right.append(datum)\n",
    "\n",
    "    if stereo:\n",
    "        out[\"left\"] = [i / (2**15) for i in left]\n",
    "        out[\"right\"] = [i / (2**15) for i in right]\n",
    "    else:\n",
    "        samples = [(ls + rs) / 2 for ls, rs in zip(left, right)]\n",
    "        out[\"samples\"] = [i / (2**15) for i in samples]\n",
    "\n",
    "    return out\n",
    "\n",
    "\n"
   ]
  },
  {
   "cell_type": "code",
   "execution_count": 20,
   "metadata": {},
   "outputs": [],
   "source": [
    "def write_wav(sound, filename):\n",
    "    \"\"\"\n",
    "    Save sound to filename location in a WAV format.\n",
    "\n",
    "    Args:\n",
    "        sound: a mono or stereo sound dictionary\n",
    "        filename: a string ending in .WAV representing the file location to\n",
    "            save the sound in\n",
    "    \"\"\"\n",
    "    outfile = wave.open(filename, \"w\")\n",
    "\n",
    "    if \"samples\" in sound:\n",
    "        # mono file\n",
    "        outfile.setparams((1, 2, sound[\"rate\"], 0, \"NONE\", \"not compressed\"))\n",
    "        out = [int(max(-1, min(1, v)) * (2**15 - 1)) for v in sound[\"samples\"]]\n",
    "    else:\n",
    "        # stereo\n",
    "        outfile.setparams((2, 2, sound[\"rate\"], 0, \"NONE\", \"not compressed\"))\n",
    "        out = []\n",
    "        for l_val, r_val in zip(sound[\"left\"], sound[\"right\"]):\n",
    "            l_val = int(max(-1, min(1, l_val)) * (2**15 - 1))\n",
    "            r_val = int(max(-1, min(1, r_val)) * (2**15 - 1))\n",
    "            out.append(l_val)\n",
    "            out.append(r_val)\n",
    "\n",
    "    outfile.writeframes(b\"\".join(struct.pack(\"<h\", frame) for frame in out))\n",
    "    outfile.close()"
   ]
  },
  {
   "cell_type": "code",
   "execution_count": 30,
   "metadata": {},
   "outputs": [],
   "source": [
    "D = load_wav('../assets/sounds/D.wav')\n",
    "C = load_wav('../assets/sounds/C.wav')"
   ]
  },
  {
   "cell_type": "code",
   "execution_count": 36,
   "metadata": {},
   "outputs": [
    {
     "ename": "TypeError",
     "evalue": "scatter() missing 1 required positional argument: 'y'",
     "output_type": "error",
     "traceback": [
      "\u001b[1;31m---------------------------------------------------------------------------\u001b[0m",
      "\u001b[1;31mTypeError\u001b[0m                                 Traceback (most recent call last)",
      "Cell \u001b[1;32mIn[36], line 2\u001b[0m\n\u001b[0;32m      1\u001b[0m \u001b[38;5;28;01mimport\u001b[39;00m \u001b[38;5;21;01mmatplotlib\u001b[39;00m\u001b[38;5;21;01m.\u001b[39;00m\u001b[38;5;21;01mpyplot\u001b[39;00m \u001b[38;5;28;01mas\u001b[39;00m \u001b[38;5;21;01mplt\u001b[39;00m\n\u001b[1;32m----> 2\u001b[0m \u001b[43mplt\u001b[49m\u001b[38;5;241;43m.\u001b[39;49m\u001b[43mscatter\u001b[49m\u001b[43m(\u001b[49m\u001b[43mC\u001b[49m\u001b[43m[\u001b[49m\u001b[38;5;124;43m'\u001b[39;49m\u001b[38;5;124;43msamples\u001b[39;49m\u001b[38;5;124;43m'\u001b[39;49m\u001b[43m]\u001b[49m\u001b[43m)\u001b[49m\n\u001b[0;32m      3\u001b[0m plt\u001b[38;5;241m.\u001b[39mscatter(D[\u001b[38;5;124m'\u001b[39m\u001b[38;5;124msamples\u001b[39m\u001b[38;5;124m'\u001b[39m])\n\u001b[0;32m      4\u001b[0m plt\u001b[38;5;241m.\u001b[39mshow()\n",
      "\u001b[1;31mTypeError\u001b[0m: scatter() missing 1 required positional argument: 'y'"
     ]
    }
   ],
   "source": [
    "import matplotlib.pyplot as plt\n",
    "plt.scatter(C['samples'])\n",
    "plt.scatter(D['samples'])\n",
    "plt.show()"
   ]
  },
  {
   "cell_type": "code",
   "execution_count": null,
   "metadata": {},
   "outputs": [],
   "source": []
  }
 ],
 "metadata": {
  "kernelspec": {
   "display_name": "Python 3 (ipykernel)",
   "language": "python",
   "name": "python3"
  },
  "language_info": {
   "codemirror_mode": {
    "name": "ipython",
    "version": 3
   },
   "file_extension": ".py",
   "mimetype": "text/x-python",
   "name": "python",
   "nbconvert_exporter": "python",
   "pygments_lexer": "ipython3",
   "version": "3.11.5"
  }
 },
 "nbformat": 4,
 "nbformat_minor": 4
}
